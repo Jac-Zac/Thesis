{
 "cells": [
  {
   "cell_type": "markdown",
   "id": "1ff3d28c",
   "metadata": {},
   "source": [
    "### Example"
   ]
  },
  {
   "cell_type": "code",
   "execution_count": 15,
   "id": "ded73feb",
   "metadata": {},
   "outputs": [
    {
     "data": {
      "text/plain": [
       "ID                                                                      1\n",
       "Altro_ID                                                              1.0\n",
       "Nome_verbatim                                           Lycopodium selago\n",
       "Nome_floritaly          Huperzia selago (L.) Bernh. ex Schrank & Mart....\n",
       "Località di raccolta                                                Lienz\n",
       "Altitudine                                                            NaN\n",
       "Giorno                                                                NaN\n",
       "Mese                                                                  NaN\n",
       "Anno                                                                  NaN\n",
       "Legit                                                                 NaN\n",
       "Determinavit                                                          NaN\n",
       "Note                                                                  NaN\n",
       "Note sui cartellini                                                   NaN\n",
       "Dati estratti da AI                                                   NaN\n",
       "Name: 0, dtype: object"
      ]
     },
     "execution_count": 15,
     "metadata": {},
     "output_type": "execute_result"
    }
   ],
   "source": [
    "import pandas as pd\n",
    "import numpy as np\n",
    "\n",
    "# Read the xlsx file\n",
    "df = pd.read_excel('DAti_TSB_Stoppari.xlsx')\n",
    "\n",
    "# Select only the first 10 rows of the dataframe\n",
    "df = df.head(10)\n",
    "#df.info()\n",
    "\n",
    "# Replace all occurrences of 'x' with NaN\n",
    "df.replace('x', np.nan, inplace=True)\n",
    "\n",
    "# get the first row\n",
    "df.iloc[0]\n",
    "\n",
    "#print(df)"
   ]
  },
  {
   "cell_type": "code",
   "execution_count": null,
   "id": "84744c2e",
   "metadata": {},
   "outputs": [],
   "source": [
    "# # Convert the dataframe to a JSON string\n",
    "json_str = df.to_json(orient='records')\n",
    "# Write the JSON string to a file\n",
    "with open('filename.json', 'w') as json_file:\n",
    "    json_file.write(json_str)"
   ]
  }
 ],
 "metadata": {
  "kernelspec": {
   "display_name": "Python 3 (ipykernel)",
   "language": "python",
   "name": "python3"
  },
  "language_info": {
   "codemirror_mode": {
    "name": "ipython",
    "version": 3
   },
   "file_extension": ".py",
   "mimetype": "text/x-python",
   "name": "python",
   "nbconvert_exporter": "python",
   "pygments_lexer": "ipython3",
   "version": "3.11.3"
  }
 },
 "nbformat": 4,
 "nbformat_minor": 5
}
