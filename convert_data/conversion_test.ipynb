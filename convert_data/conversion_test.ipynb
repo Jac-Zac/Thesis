{
 "cells": [
  {
   "cell_type": "markdown",
   "id": "bcfba5d1-82f6-48d2-bb3d-f240a58e630e",
   "metadata": {},
   "source": [
    "### Excel file manipulation\n",
    "\n",
    "Importing the given excel file and then replacing missing with nan"
   ]
  },
  {
   "cell_type": "code",
   "execution_count": 353,
   "id": "c69324d0-d9ce-499a-8767-110fe6fa71c5",
   "metadata": {
    "tags": []
   },
   "outputs": [],
   "source": [
    "# import pandas as pd\n",
    "import numpy as np\n",
    "\n",
    "# Read the xlsx file\n",
    "df = pd.read_excel('lables.xlsx')\n",
    "\n",
    "# Select only the first 10 rows of the dataframe\n",
    "df = df.head(886)\n",
    "\n",
    "# Replace all occurrences of 'x' with NaN\n",
    "df.replace('x', np.NaN, inplace=True)\n",
    "\n",
    "columns_to_format = ['Giorno', 'Mese', 'Anno', 'Altitudine']\n",
    "\n",
    "# Drop the lines were an error occurs for know\n",
    "for index, row in df.iterrows():\n",
    "    try:\n",
    "        if pd.notna(row[columns_to_format]): \n",
    "            row[columns_to_format] = pd.to_datetime(row[columns_to_format], errors='coerce').strftime('%-d-%-m')\n",
    "    except ValueError:\n",
    "        # print(f\"Error: {row[columns_to_format]} at row {index}\")\n",
    "        # Drop the rows that are too wierd\n",
    "        df.drop(index, inplace=True)\n",
    "        \n",
    "# Chnage the days where they where automatically formatted to dates for two different fields\n",
    "df[columns_to_format] = df[columns_to_format].apply(lambda x: pd.to_datetime(x, errors='coerce').strftime('%-d-%-m') if (not pd.isna(x) and ' ' in str(x)) else x)"
   ]
  },
  {
   "cell_type": "code",
   "execution_count": 354,
   "id": "84744c2e",
   "metadata": {},
   "outputs": [],
   "source": [
    "import json\n",
    "\n",
    "# define metadata list\n",
    "metadata_list = []\n",
    "\n",
    "# loop through rows of dataframe\n",
    "for index, row in df.iterrows():\n",
    "    # Do it only for the ones who have null note and others to avoid wierd things\n",
    "    if pd.isnull(row['Note']) and pd.isnull(row['Determinavit']) and pd.isnull(row['Legit']): \n",
    "       \n",
    "        # Fill the NaN in the row wiht the empty string\n",
    "        row = row.fillna(' ')\n",
    "        \n",
    "        # create dictionary with metadata for this row\n",
    "        metadata_dict = {\n",
    "            \"Nome_verbatim\": row['Nome_verbatim'],\n",
    "            \"Nome_floritaly\": row['Nome_floritaly'],\n",
    "            \"Località di raccolta\": row['Località di raccolta'],\n",
    "            \"Altitudine\": row['Altitudine'],\n",
    "            \"Giorno\": row['Giorno'],\n",
    "            \"Mese\": row['Mese'],\n",
    "            \"Anno\": row['Anno'],\n",
    "        }\n",
    "        # create dictionary with \"file_name\" and \"text\" keys\n",
    "        metadata_list.append({\n",
    "            \"file_name\": f\"{str(row['ID']).zfill(5)}.jpg\",\n",
    "            \"text\": json.dumps(metadata_dict)\n",
    "        })\n",
    "\n",
    "# write jsonline file\n",
    "with open('metadata.jsonl', 'w') as outfile:\n",
    "    for entry in metadata_list:\n",
    "        json.dump(entry, outfile)\n",
    "        outfile.write('\\n')"
   ]
  }
 ],
 "metadata": {
  "kernelspec": {
   "display_name": "Python 3 (ipykernel)",
   "language": "python",
   "name": "python3"
  },
  "language_info": {
   "codemirror_mode": {
    "name": "ipython",
    "version": 3
   },
   "file_extension": ".py",
   "mimetype": "text/x-python",
   "name": "python",
   "nbconvert_exporter": "python",
   "pygments_lexer": "ipython3",
   "version": "3.11.3"
  },
  "toc-autonumbering": false,
  "toc-showcode": true,
  "toc-showmarkdowntxt": false,
  "toc-showtags": false
 },
 "nbformat": 4,
 "nbformat_minor": 5
}
