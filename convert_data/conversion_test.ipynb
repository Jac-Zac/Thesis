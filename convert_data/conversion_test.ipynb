{
 "cells": [
  {
   "cell_type": "markdown",
   "id": "bcfba5d1-82f6-48d2-bb3d-f240a58e630e",
   "metadata": {},
   "source": [
    "### Excel file manipulation\n",
    "\n",
    "Importing the given excel file and then replacing missing with nan"
   ]
  },
  {
   "cell_type": "code",
   "execution_count": 1,
   "id": "ded73feb",
   "metadata": {},
   "outputs": [
    {
     "name": "stdout",
     "output_type": "stream",
     "text": [
      "<class 'pandas.core.frame.DataFrame'>\n",
      "RangeIndex: 10 entries, 0 to 9\n",
      "Data columns (total 14 columns):\n",
      " #   Column                Non-Null Count  Dtype \n",
      "---  ------                --------------  ----- \n",
      " 0   ID                    10 non-null     int64 \n",
      " 1   Altro_ID              9 non-null      object\n",
      " 2   Nome_verbatim         10 non-null     object\n",
      " 3   Nome_floritaly        10 non-null     object\n",
      " 4   Località di raccolta  10 non-null     object\n",
      " 5   Altitudine            9 non-null      object\n",
      " 6   Giorno                10 non-null     object\n",
      " 7   Mese                  10 non-null     object\n",
      " 8   Anno                  10 non-null     object\n",
      " 9   Legit                 0 non-null      object\n",
      " 10  Determinavit          0 non-null      object\n",
      " 11  Note                  2 non-null      object\n",
      " 12  Note sui cartellini   2 non-null      object\n",
      " 13  Dati estratti da AI   9 non-null      object\n",
      "dtypes: int64(1), object(13)\n",
      "memory usage: 1.2+ KB\n"
     ]
    }
   ],
   "source": [
    "import pandas as pd\n",
    "import numpy as np\n",
    "\n",
    "# Read the xlsx file\n",
    "df = pd.read_excel('lables.xlsx')\n",
    "\n",
    "# Select only the first 10 rows of the dataframe\n",
    "df = df.head(10)\n",
    "df.info()\n",
    "\n",
    "# Replace all occurrences of 'x' with NaN\n",
    "df.replace('x', np.nan, inplace=True)"
   ]
  },
  {
   "cell_type": "code",
   "execution_count": 6,
   "id": "84744c2e",
   "metadata": {},
   "outputs": [],
   "source": [
    "import json\n",
    "\n",
    "# define metadata list\n",
    "metadata_list = []\n",
    "\n",
    "# loop through rows of dataframe\n",
    "for index, row in df.iterrows():\n",
    "    # Do it only for the ones who have null note and others to avoid wierd things\n",
    "    if pd.isnull(row['Note']) and pd.isnull(row['Determinavit']) and pd.isnull(row['Legit']):\n",
    "        # create dictionary with metadata for this row\n",
    "        metadata_dict = {\n",
    "            \"Nome_verbatim\": row['Nome_verbatim'],\n",
    "            \"Nome_floritaly\": row['Nome_floritaly'],\n",
    "            \"Località di raccolta\": row['Località di raccolta'],\n",
    "            \"Altitudine\": row['Altitudine'],\n",
    "            \"Giorno\": row['Giorno'],\n",
    "            \"Mese\": row['Mese'],\n",
    "            \"Anno\": row['Anno'],\n",
    "        }\n",
    "        # create dictionary with \"file_name\" and \"text\" keys\n",
    "        metadata_list.append({\n",
    "            # \"file_name\": f'{row['ID']}.jpg',\n",
    "            \"file_name\": f\"{str(row['ID']).zfill(5)}.jpg\",\n",
    "            \"text\": json.dumps(metadata_dict)\n",
    "        })\n",
    "\n",
    "# write jsonline file\n",
    "with open('metadata.jsonl', 'w') as outfile:\n",
    "    for entry in metadata_list:\n",
    "        json.dump(entry, outfile)\n",
    "        outfile.write('\\n')"
   ]
  }
 ],
 "metadata": {
  "kernelspec": {
   "display_name": "Python 3 (ipykernel)",
   "language": "python",
   "name": "python3"
  },
  "language_info": {
   "codemirror_mode": {
    "name": "ipython",
    "version": 3
   },
   "file_extension": ".py",
   "mimetype": "text/x-python",
   "name": "python",
   "nbconvert_exporter": "python",
   "pygments_lexer": "ipython3",
   "version": "3.11.3"
  },
  "toc-autonumbering": false,
  "toc-showcode": true,
  "toc-showmarkdowntxt": false,
  "toc-showtags": false
 },
 "nbformat": 4,
 "nbformat_minor": 5
}
